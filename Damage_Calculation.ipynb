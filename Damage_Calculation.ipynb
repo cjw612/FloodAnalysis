{
 "cells": [
  {
   "cell_type": "code",
   "execution_count": 10,
   "id": "7c6bf381-f47c-42a5-b703-fb0aef626ec8",
   "metadata": {},
   "outputs": [],
   "source": [
    "import pandas as pd\n",
    "import numpy as np"
   ]
  },
  {
   "cell_type": "code",
   "execution_count": 37,
   "id": "5b00a086-e3e0-40d2-9916-56f0d7b05fbd",
   "metadata": {},
   "outputs": [],
   "source": [
    "flood_incidents = pd.read_csv('./flood_incidents.csv')"
   ]
  },
  {
   "cell_type": "code",
   "execution_count": 28,
   "id": "4e69c90a-0eb7-499c-9d3a-3b44007bdfc8",
   "metadata": {},
   "outputs": [],
   "source": [
    "# Define Damage function\n",
    "damage_function = np.array([\n",
    "    [0.00, 0.00],\n",
    "    [0.5, 0.38],\n",
    "    [1, 0.54],\n",
    "    [1.5, 0.66],\n",
    "    [2, 0.76],\n",
    "    [3, 0.88],\n",
    "    [4, 0.94],\n",
    "    [5, 0.98],\n",
    "    [6, 1.00]\n",
    "])\n",
    "\n",
    "# Extract depth and damage factor arrays\n",
    "depth_values = damage_function[:, 0]\n",
    "damage_factors = damage_function[:, 1]"
   ]
  },
  {
   "cell_type": "code",
   "execution_count": 59,
   "id": "dd9777f6-0c47-4e73-b096-6f3a40a26a48",
   "metadata": {},
   "outputs": [],
   "source": [
    "# Define function to estimate flood damage\n",
    "\n",
    "def estimate_damage(flood_depth, flood_area, max_damage_per_sqm):\n",
    "    \"\"\"\n",
    "    Compute flood damage based on interpolated damage function.\n",
    "\n",
    "    Parameters:\n",
    "        flood_depth (float): Average flood depth (m).\n",
    "        flood_area (float): Flooded area (sqm).\n",
    "        max_damage_per_sqm (float): Maximum damage per sqm.\n",
    "\n",
    "    Returns:\n",
    "        float: Estimated flood damage.\n",
    "    \"\"\"\n",
    "    if pd.isna(flood_depth) or pd.isna(flood_area) or flood_area <= 0:\n",
    "        return 0  # No damage if depth or area is missing/invalid\n",
    "\n",
    "    # Interpolate damage factor based on flood depth\n",
    "    damage_factor = np.interp(flood_depth/100, depth_values, damage_factors)\n",
    "\n",
    "    # Compute estimated damage\n",
    "    return damage_factor * max_damage_per_sqm * flood_area"
   ]
  },
  {
   "cell_type": "code",
   "execution_count": 60,
   "id": "9dcc87e8-cc6f-441f-a84f-c92506f768ec",
   "metadata": {},
   "outputs": [],
   "source": [
    "# Calculate flood damage for each incident using the ave\n",
    "\n",
    "MAX_DAMAGE = 309 # Predetermined hyperparameter\n",
    "\n",
    "damage = flood_incidents\n",
    "\n",
    "damage['estimated_damage'] = flood_incidents.apply(\n",
    "    lambda row: estimate_damage(row['avg_flood_depth'], row['area_sqm'], MAX_DAMAGE), axis=1)"
   ]
  },
  {
   "cell_type": "code",
   "execution_count": 61,
   "id": "93f7ade6-2319-4b11-9330-3a5e49865293",
   "metadata": {},
   "outputs": [],
   "source": [
    "# Convert damage to NTD in 2025\n",
    "\n",
    "EURO_TO_NTD = 34.01  \n",
    "TW_CPI_2010 = 82.5  \n",
    "TW_CPI_2025 = 109.43  \n",
    "\n",
    "# Convert estimated damage from EUR (2010) to NTD (2025)\n",
    "damage['estimated_damage_adjusted'] = (\n",
    "    damage['estimated_damage'] * EURO_TO_NTD * (TW_CPI_2025 / TW_CPI_2010)\n",
    ")"
   ]
  },
  {
   "cell_type": "code",
   "execution_count": null,
   "id": "ccaf104d-e938-4090-9f59-fe92d08b7a69",
   "metadata": {},
   "outputs": [],
   "source": [
    "# Export as csv\n",
    "damage.to_csv(\"damage.csv\", index=False)"
   ]
  }
 ],
 "metadata": {
  "kernelspec": {
   "display_name": "Python 3 (ipykernel)",
   "language": "python",
   "name": "python3"
  },
  "language_info": {
   "codemirror_mode": {
    "name": "ipython",
    "version": 3
   },
   "file_extension": ".py",
   "mimetype": "text/x-python",
   "name": "python",
   "nbconvert_exporter": "python",
   "pygments_lexer": "ipython3",
   "version": "3.12.7"
  }
 },
 "nbformat": 4,
 "nbformat_minor": 5
}
