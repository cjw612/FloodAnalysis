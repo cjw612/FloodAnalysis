{
 "cells": [
  {
   "cell_type": "code",
   "execution_count": 52,
   "id": "7c6bf381-f47c-42a5-b703-fb0aef626ec8",
   "metadata": {},
   "outputs": [],
   "source": [
    "import pandas as pd\n",
    "import numpy as np\n",
    "import sqlite3"
   ]
  },
  {
   "cell_type": "code",
<<<<<<< Updated upstream
   "execution_count": 110,
=======
   "execution_count": 105,
>>>>>>> Stashed changes
   "id": "5b00a086-e3e0-40d2-9916-56f0d7b05fbd",
   "metadata": {},
   "outputs": [],
   "source": [
    "flood_incidents = pd.read_csv('./flood_incidents.csv')"
   ]
  },
  {
   "cell_type": "code",
<<<<<<< Updated upstream
   "execution_count": 111,
=======
   "execution_count": 98,
>>>>>>> Stashed changes
   "id": "4e69c90a-0eb7-499c-9d3a-3b44007bdfc8",
   "metadata": {},
   "outputs": [],
   "source": [
    "# Define Damage function\n",
    "damage_function = np.array([\n",
    "    [0.00, 0.00],\n",
    "    [0.5, 0.38],\n",
    "    [1, 0.54],\n",
    "    [1.5, 0.66],\n",
    "    [2, 0.76],\n",
    "    [3, 0.88],\n",
    "    [4, 0.94],\n",
    "    [5, 0.98],\n",
    "    [6, 1.00]\n",
    "])\n",
    "\n",
    "# Extract depth and damage factor arrays\n",
    "depth_values = damage_function[:, 0]\n",
    "damage_factors = damage_function[:, 1]"
   ]
  },
  {
   "cell_type": "code",
<<<<<<< Updated upstream
   "execution_count": 112,
=======
   "execution_count": 99,
>>>>>>> Stashed changes
   "id": "dd9777f6-0c47-4e73-b096-6f3a40a26a48",
   "metadata": {},
   "outputs": [],
   "source": [
    "# Define function to estimate flood damage\n",
    "\n",
    "def estimate_damage(flood_depth, flood_area, max_damage_per_sqm, factor):\n",
    "    if pd.isna(flood_depth) or pd.isna(flood_area) or flood_area <= 0:\n",
    "        return 0  # No damage if depth or area is missing/invalid\n",
    "\n",
    "    # Interpolate damage factor based on flood depth\n",
    "    flood_depth_m = flood_depth/100\n",
    "    damage_factor = np.interp(flood_depth_m, depth_values, damage_factors)\n",
    "\n",
    "    # Compute estimated damage\n",
    "    return damage_factor * max_damage_per_sqm * flood_area / factor"
   ]
  },
  {
   "cell_type": "code",
<<<<<<< Updated upstream
   "execution_count": 113,
=======
   "execution_count": 106,
>>>>>>> Stashed changes
   "id": "9dcc87e8-cc6f-441f-a84f-c92506f768ec",
   "metadata": {},
   "outputs": [],
   "source": [
    "# Calculate flood damage for each incident using the ave\n",
    "\n",
    "MAX_DAMAGE = 309 # Predetermined hyperparameter\n",
    "\n",
    "damage = flood_incidents\n",
    "\n",
    "damage['estimated_damage'] = flood_incidents.apply(\n",
    "    lambda row: estimate_damage(row['avg_flood_depth'], row['area'], MAX_DAMAGE, row['factor']), axis=1)"
   ]
  },
  {
   "cell_type": "code",
<<<<<<< Updated upstream
   "execution_count": 114,
=======
   "execution_count": 107,
>>>>>>> Stashed changes
   "id": "93f7ade6-2319-4b11-9330-3a5e49865293",
   "metadata": {},
   "outputs": [],
   "source": [
    "# Convert damage to NTD in 2025\n",
    "\n",
    "EURO_TO_NTD = 34.01  \n",
    "EU_CPI_2010 = 91.57 \n",
    "EU_CPI_2025 = 126.71\n",
    "\n",
    "# Convert estimated damage from EUR (2010) to NTD (2025)\n",
    "damage['estimated_damage_adjusted'] = (\n",
    "    damage['estimated_damage'] * EURO_TO_NTD * (EU_CPI_2025 / EU_CPI_2010)\n",
    ")"
   ]
  },
  {
   "cell_type": "code",
<<<<<<< Updated upstream
   "execution_count": 115,
=======
   "execution_count": 108,
   "id": "26c6f5c6-4691-45a3-a9ce-a9a11a52d792",
   "metadata": {},
   "outputs": [
    {
     "data": {
      "text/html": [
       "<div>\n",
       "<style scoped>\n",
       "    .dataframe tbody tr th:only-of-type {\n",
       "        vertical-align: middle;\n",
       "    }\n",
       "\n",
       "    .dataframe tbody tr th {\n",
       "        vertical-align: top;\n",
       "    }\n",
       "\n",
       "    .dataframe thead th {\n",
       "        text-align: right;\n",
       "    }\n",
       "</style>\n",
       "<table border=\"1\" class=\"dataframe\">\n",
       "  <thead>\n",
       "    <tr style=\"text-align: right;\">\n",
       "      <th></th>\n",
       "      <th>district</th>\n",
       "      <th>incident_id</th>\n",
       "      <th>start_time</th>\n",
       "      <th>end_time</th>\n",
       "      <th>min_flood_depth</th>\n",
       "      <th>max_flood_depth</th>\n",
       "      <th>avg_flood_depth</th>\n",
       "      <th>area</th>\n",
       "      <th>county</th>\n",
       "      <th>town</th>\n",
       "      <th>vil</th>\n",
       "      <th>geometry</th>\n",
       "      <th>factor</th>\n",
       "      <th>estimated_damage</th>\n",
       "      <th>estimated_damage_adjusted</th>\n",
       "    </tr>\n",
       "  </thead>\n",
       "  <tbody>\n",
       "    <tr>\n",
       "      <th>0</th>\n",
       "      <td>嘉義市東區</td>\n",
       "      <td>48</td>\n",
       "      <td>2022-10-01 09:00:00</td>\n",
       "      <td>2022-10-01 10:27:00</td>\n",
       "      <td>294.2</td>\n",
       "      <td>295.1</td>\n",
       "      <td>294.900000</td>\n",
       "      <td>30155600</td>\n",
       "      <td>嘉義市</td>\n",
       "      <td>東區</td>\n",
       "      <td>仁義里</td>\n",
       "      <td>POLYGON ((120.45899207200011 23.45419898600005...</td>\n",
       "      <td>39</td>\n",
       "      <td>2.087919e+08</td>\n",
       "      <td>9.826027e+09</td>\n",
       "    </tr>\n",
       "    <tr>\n",
       "      <th>1</th>\n",
       "      <td>嘉義縣六腳鄉</td>\n",
       "      <td>113</td>\n",
       "      <td>2020-03-21 20:09:00</td>\n",
       "      <td>2020-03-21 20:09:00</td>\n",
       "      <td>77.3</td>\n",
       "      <td>77.3</td>\n",
       "      <td>77.300000</td>\n",
       "      <td>62261900</td>\n",
       "      <td>嘉義縣</td>\n",
       "      <td>六腳鄉</td>\n",
       "      <td>古林村</td>\n",
       "      <td>POLYGON ((120.28175757500003 23.49113104400004...</td>\n",
       "      <td>25</td>\n",
       "      <td>3.596602e+08</td>\n",
       "      <td>1.692609e+10</td>\n",
       "    </tr>\n",
       "    <tr>\n",
       "      <th>2</th>\n",
       "      <td>嘉義縣六腳鄉</td>\n",
       "      <td>115</td>\n",
       "      <td>2020-04-13 21:26:00</td>\n",
       "      <td>2020-04-13 21:26:00</td>\n",
       "      <td>75.7</td>\n",
       "      <td>75.7</td>\n",
       "      <td>75.700000</td>\n",
       "      <td>62261900</td>\n",
       "      <td>嘉義縣</td>\n",
       "      <td>六腳鄉</td>\n",
       "      <td>古林村</td>\n",
       "      <td>POLYGON ((120.28175757500003 23.49113104400004...</td>\n",
       "      <td>25</td>\n",
       "      <td>3.557201e+08</td>\n",
       "      <td>1.674066e+10</td>\n",
       "    </tr>\n",
       "    <tr>\n",
       "      <th>3</th>\n",
       "      <td>嘉義縣大林鎮</td>\n",
       "      <td>144</td>\n",
       "      <td>2021-07-15 16:13:00</td>\n",
       "      <td>2021-07-15 17:52:00</td>\n",
       "      <td>38.6</td>\n",
       "      <td>142.1</td>\n",
       "      <td>101.158824</td>\n",
       "      <td>64166300</td>\n",
       "      <td>嘉義縣</td>\n",
       "      <td>大林鎮</td>\n",
       "      <td>上林里</td>\n",
       "      <td>POLYGON ((120.46465123100006 23.58248453100003...</td>\n",
       "      <td>21</td>\n",
       "      <td>5.124730e+08</td>\n",
       "      <td>2.411767e+10</td>\n",
       "    </tr>\n",
       "    <tr>\n",
       "      <th>4</th>\n",
       "      <td>嘉義縣大林鎮</td>\n",
       "      <td>145</td>\n",
       "      <td>2021-08-02 09:43:00</td>\n",
       "      <td>2021-08-02 12:31:00</td>\n",
       "      <td>4.1</td>\n",
       "      <td>139.5</td>\n",
       "      <td>94.139394</td>\n",
       "      <td>64166300</td>\n",
       "      <td>嘉義縣</td>\n",
       "      <td>大林鎮</td>\n",
       "      <td>上林里</td>\n",
       "      <td>POLYGON ((120.46465123100006 23.58248453100003...</td>\n",
       "      <td>21</td>\n",
       "      <td>4.921403e+08</td>\n",
       "      <td>2.316079e+10</td>\n",
       "    </tr>\n",
       "  </tbody>\n",
       "</table>\n",
       "</div>"
      ],
      "text/plain": [
       "  district  incident_id           start_time             end_time  \\\n",
       "0    嘉義市東區           48  2022-10-01 09:00:00  2022-10-01 10:27:00   \n",
       "1   嘉義縣六腳鄉          113  2020-03-21 20:09:00  2020-03-21 20:09:00   \n",
       "2   嘉義縣六腳鄉          115  2020-04-13 21:26:00  2020-04-13 21:26:00   \n",
       "3   嘉義縣大林鎮          144  2021-07-15 16:13:00  2021-07-15 17:52:00   \n",
       "4   嘉義縣大林鎮          145  2021-08-02 09:43:00  2021-08-02 12:31:00   \n",
       "\n",
       "   min_flood_depth  max_flood_depth  avg_flood_depth      area county town  \\\n",
       "0            294.2            295.1       294.900000  30155600    嘉義市   東區   \n",
       "1             77.3             77.3        77.300000  62261900    嘉義縣  六腳鄉   \n",
       "2             75.7             75.7        75.700000  62261900    嘉義縣  六腳鄉   \n",
       "3             38.6            142.1       101.158824  64166300    嘉義縣  大林鎮   \n",
       "4              4.1            139.5        94.139394  64166300    嘉義縣  大林鎮   \n",
       "\n",
       "   vil                                           geometry  factor  \\\n",
       "0  仁義里  POLYGON ((120.45899207200011 23.45419898600005...      39   \n",
       "1  古林村  POLYGON ((120.28175757500003 23.49113104400004...      25   \n",
       "2  古林村  POLYGON ((120.28175757500003 23.49113104400004...      25   \n",
       "3  上林里  POLYGON ((120.46465123100006 23.58248453100003...      21   \n",
       "4  上林里  POLYGON ((120.46465123100006 23.58248453100003...      21   \n",
       "\n",
       "   estimated_damage  estimated_damage_adjusted  \n",
       "0      2.087919e+08               9.826027e+09  \n",
       "1      3.596602e+08               1.692609e+10  \n",
       "2      3.557201e+08               1.674066e+10  \n",
       "3      5.124730e+08               2.411767e+10  \n",
       "4      4.921403e+08               2.316079e+10  "
      ]
     },
     "execution_count": 108,
     "metadata": {},
     "output_type": "execute_result"
    }
   ],
   "source": [
    "damage.head()"
   ]
  },
  {
   "cell_type": "code",
   "execution_count": 112,
>>>>>>> Stashed changes
   "id": "ccaf104d-e938-4090-9f59-fe92d08b7a69",
   "metadata": {},
   "outputs": [],
   "source": [
    "# Export damage record as csv\n",
    "damage.to_csv(\"damage.csv\", index=False)"
   ]
  },
  {
   "cell_type": "code",
<<<<<<< Updated upstream
   "execution_count": 93,
=======
   "execution_count": 111,
>>>>>>> Stashed changes
   "id": "610ba39f-0498-43f1-934c-10bb730ccf56",
   "metadata": {},
   "outputs": [
    {
     "name": "stdout",
     "output_type": "stream",
     "text": [
      "   sum(estimated_damage_adjusted)\n",
      "0                    7.213796e+11\n"
     ]
    }
   ],
   "source": [
    "# Load the CSV file into a Pandas DataFrame\n",
    "\n",
    "\n",
    "# Connect to an in-memory SQLite database\n",
    "conn = sqlite3.connect(\":memory:\")\n",
    "\n",
    "# Load the DataFrame into a SQL table\n",
    "damage.to_sql(\"d\", conn, if_exists=\"replace\", index=False)\n",
    "\n",
    "# Run an SQL query (e.g., filter by year 2025)\n",
    "query = \"SELECT sum(estimated_damage_adjusted) from d WHERE strftime('%Y', start_time) BETWEEN '2021' AND '2022'\"\n",
    "damage_filtered = pd.read_sql(query, conn)\n",
    "\n",
    "# Display results\n",
    "print(damage_filtered)\n",
    "\n",
    "# Close the connection\n",
    "conn.close()"
   ]
  },
  {
   "cell_type": "code",
   "execution_count": null,
   "id": "3411f045-c890-4f9b-9b94-a730a44e2295",
   "metadata": {},
   "outputs": [],
   "source": []
  }
 ],
 "metadata": {
  "kernelspec": {
   "display_name": "Python 3 (ipykernel)",
   "language": "python",
   "name": "python3"
  },
  "language_info": {
   "codemirror_mode": {
    "name": "ipython",
    "version": 3
   },
   "file_extension": ".py",
   "mimetype": "text/x-python",
   "name": "python",
   "nbconvert_exporter": "python",
   "pygments_lexer": "ipython3",
   "version": "3.9.6"
  }
 },
 "nbformat": 4,
 "nbformat_minor": 5
}
